{
 "cells": [
  {
   "cell_type": "code",
   "execution_count": 1,
   "metadata": {
    "collapsed": false
   },
   "outputs": [
    {
     "ename": "ModuleNotFoundError",
     "evalue": "No module named 'SPARQLWrapper'",
     "output_type": "error",
     "traceback": [
      "\u001b[0;31m---------------------------------------------------------------------------\u001b[0m",
      "\u001b[0;31mModuleNotFoundError\u001b[0m                       Traceback (most recent call last)",
      "\u001b[0;32m<ipython-input-1-d94ea1906caf>\u001b[0m in \u001b[0;36m<module>\u001b[0;34m()\u001b[0m\n\u001b[1;32m      1\u001b[0m \u001b[0;32mfrom\u001b[0m \u001b[0mstring\u001b[0m \u001b[0;32mimport\u001b[0m \u001b[0mTemplate\u001b[0m\u001b[0;34m\u001b[0m\u001b[0m\n\u001b[1;32m      2\u001b[0m \u001b[0;32mfrom\u001b[0m \u001b[0mcollections\u001b[0m \u001b[0;32mimport\u001b[0m \u001b[0mdefaultdict\u001b[0m\u001b[0;34m\u001b[0m\u001b[0m\n\u001b[0;32m----> 3\u001b[0;31m \u001b[0;32mfrom\u001b[0m \u001b[0mSPARQLWrapper\u001b[0m \u001b[0;32mimport\u001b[0m \u001b[0mSPARQLWrapper2\u001b[0m\u001b[0;34m,\u001b[0m \u001b[0mJSON\u001b[0m\u001b[0;34m\u001b[0m\u001b[0m\n\u001b[0m\u001b[1;32m      4\u001b[0m \u001b[0;32mimport\u001b[0m \u001b[0murllib\u001b[0m\u001b[0;34m\u001b[0m\u001b[0m\n\u001b[1;32m      5\u001b[0m \u001b[0;34m\u001b[0m\u001b[0m\n",
      "\u001b[0;31mModuleNotFoundError\u001b[0m: No module named 'SPARQLWrapper'"
     ]
    }
   ],
   "source": [
    "from string import Template\n",
    "from collections import defaultdict\n",
    "from SPARQLWrapper import SPARQLWrapper2, JSON\n",
    "import urllib\n",
    "\n",
    "proxy = urllib.request.ProxyHandler( { 'http': 'gateway.ad.renci.org:8080'  } )\n",
    "opener = urllib.request.build_opener(proxy)\n",
    "urllib.request.install_opener(opener)\n",
    "blazegraph_uri = \"http://stars-blazegraph.renci.org/bigdata/sparql\"\n",
    "blazegraph = SPARQLWrapper2 (blazegraph_uri)\n",
    "def query_sparql (query, service=blazegraph):\n",
    "    print ('hi')\n",
    "    service.setQuery (query)\n",
    "    service.setReturnFormat (JSON)\n",
    "    return service.query().convert ()\n",
    "query = Template (\"\"\"\n",
    "PREFIX OBO: <http://purl.obolibrary.org/obo/>\n",
    "PREFIX OBAN: <http://purl.org/oban/>\n",
    "SELECT ?object ?association\n",
    "WHERE {\n",
    "   ?association OBAN:association_has_object OBO:MESH_${diseaseMeshID} .\n",
    "   ?association a OBAN:association .\n",
    "   ?association OBAN:association_has_subject OBO:MESH_${environmentalAgent}\n",
    "}\"\"\")\n",
    "\n",
    "results = query_sparql (query.substitute (\n",
    "    diseaseMeshID=\"D001249\",\n",
    "    environmentalAgent=\"D052638\"))\n",
    "print (results)\n",
    "print (\"sfasdfasfs\")\n",
    "\n",
    "print (map (lambda b : b['association'].value, results.bindings))"
   ]
  },
  {
   "cell_type": "code",
   "execution_count": null,
   "metadata": {
    "collapsed": true
   },
   "outputs": [],
   "source": []
  }
 ],
 "metadata": {
  "kernelspec": {
   "display_name": "Python 3",
   "language": "python",
   "name": "python3"
  },
  "language_info": {
   "codemirror_mode": {
    "name": "ipython",
    "version": 3
   },
   "file_extension": ".py",
   "mimetype": "text/x-python",
   "name": "python",
   "nbconvert_exporter": "python",
   "pygments_lexer": "ipython3",
   "version": "3.6.0"
  }
 },
 "nbformat": 4,
 "nbformat_minor": 2
}
