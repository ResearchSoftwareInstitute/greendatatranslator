{
 "cells": [
  {
   "cell_type": "code",
   "execution_count": 37,
   "metadata": {
    "collapsed": false,
    "deletable": true,
    "editable": true
   },
   "outputs": [],
   "source": [
    "from greentranslator.api import GreenTranslator"
   ]
  },
  {
   "cell_type": "code",
   "execution_count": 38,
   "metadata": {
    "collapsed": true,
    "deletable": true,
    "editable": true
   },
   "outputs": [],
   "source": [
    "translator = GreenTranslator ()\n"
   ]
  },
  {
   "cell_type": "code",
   "execution_count": 39,
   "metadata": {
    "collapsed": false,
    "deletable": true,
    "editable": true
   },
   "outputs": [
    {
     "name": "stdout",
     "output_type": "stream",
     "text": [
      "Exposure: [{'latitude': '35.7795897', 'longitude': '-78.6381787'}, {'latitude': '35.9131996', 'longitude': '-79.0558445'}, {'latitude': '35.9940329', 'longitude': '-78.898619'}]\n"
     ]
    }
   ],
   "source": [
    "exposure = translator.get_exposure_by_area (exposure_type = 'pm25',\n",
    "                                            latitude      = '',\n",
    "                                            longitude     = '',\n",
    "                                            radius        = '0')\n",
    "print (\"Exposure: {}\".format (exposure))"
   ]
  },
  {
   "cell_type": "code",
   "execution_count": 40,
   "metadata": {
    "collapsed": false,
    "deletable": true,
    "editable": true
   },
   "outputs": [
    {
     "name": "stdout",
     "output_type": "stream",
     "text": [
      "Asthma drugs: ['Theophylline', 'Beclomethasone', 'Montelukast', 'Hydrocortisone', 'Salmeterol', 'Formoterol', 'Dyphylline', 'Fluticasone Propionate', 'Chlorpheniramine', 'Aminophylline', 'Vitamin E', 'Flunisolide', 'Nedocromil', 'Zileuton', 'Mometasone', 'Enprofylline', 'Isoproterenol', 'Omalizumab', 'Isoetharine', 'Zafirlukast', 'Cinalukast', 'Terbutaline']\n"
     ]
    }
   ],
   "source": [
    "results = translator.get_drugs_by_disease (\"asthma\")\n",
    "print (\"Asthma drugs: {}\".format (list(map (lambda b : b['generic_name'].value, results.bindings))))"
   ]
  },
  {
   "cell_type": "code",
   "execution_count": null,
   "metadata": {
    "collapsed": true,
    "deletable": true,
    "editable": true
   },
   "outputs": [],
   "source": []
  }
 ],
 "metadata": {
  "kernelspec": {
   "display_name": "Python 3",
   "language": "python",
   "name": "python3"
  },
  "language_info": {
   "codemirror_mode": {
    "name": "ipython",
    "version": 3
   },
   "file_extension": ".py",
   "mimetype": "text/x-python",
   "name": "python",
   "nbconvert_exporter": "python",
   "pygments_lexer": "ipython3",
   "version": "3.4.5"
  }
 },
 "nbformat": 4,
 "nbformat_minor": 2
}
